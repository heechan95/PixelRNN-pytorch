{
 "cells": [
  {
   "cell_type": "code",
   "execution_count": null,
   "metadata": {
    "colab": {},
    "colab_type": "code",
    "id": "HMGMrwlacnfV"
   },
   "outputs": [],
   "source": [
    "import torch"
   ]
  },
  {
   "cell_type": "code",
   "execution_count": null,
   "metadata": {
    "colab": {},
    "colab_type": "code",
    "id": "jucmPXU_csvc"
   },
   "outputs": [],
   "source": [
    "from torch import nn\n",
    "import numpy as np\n",
    "import torch.nn.functional as F"
   ]
  },
  {
   "cell_type": "code",
   "execution_count": null,
   "metadata": {
    "colab": {},
    "colab_type": "code",
    "id": "_xwxvayWmSY5"
   },
   "outputs": [],
   "source": [
    "import torchvision"
   ]
  },
  {
   "cell_type": "code",
   "execution_count": null,
   "metadata": {
    "colab": {},
    "colab_type": "code",
    "id": "QTpB24oBmZFK"
   },
   "outputs": [],
   "source": [
    "batch_size_train = 16\n",
    "batch_size_test = 16"
   ]
  },
  {
   "cell_type": "markdown",
   "metadata": {
    "colab_type": "text",
    "id": "zMxtXK9Smr0E"
   },
   "source": [
    "The values 0.1307 and 0.3081 used for the Normalize() transformation below are the global mean and standard deviation of the MNIST dataset, we'll take them as a given here."
   ]
  },
  {
   "cell_type": "code",
   "execution_count": null,
   "metadata": {
    "colab": {
     "base_uri": "https://localhost:8080/",
     "height": 263
    },
    "colab_type": "code",
    "executionInfo": {
     "elapsed": 10311,
     "status": "ok",
     "timestamp": 1572027004268,
     "user": {
      "displayName": "이희찬",
      "photoUrl": "",
      "userId": "06255163499262544080"
     },
     "user_tz": -540
    },
    "id": "ijgstw3gmSVT",
    "outputId": "fd98d66a-80b1-4177-baf7-ca521bf85324"
   },
   "outputs": [],
   "source": [
    "train_loader = torch.utils.data.DataLoader(\n",
    "  torchvision.datasets.MNIST('./files/', train=True, download=True,\n",
    "                             transform=torchvision.transforms.Compose([\n",
    "                               torchvision.transforms.ToTensor(),\n",
    "                               #torchvision.transforms.Normalize(\n",
    "                               #  (0.1307,), (0.3081,))\n",
    "                             ])),\n",
    "  batch_size=batch_size_train, shuffle=True)\n",
    "\n",
    "test_loader = torch.utils.data.DataLoader(\n",
    "  torchvision.datasets.MNIST('./files/', train=False, download=True,\n",
    "                             transform=torchvision.transforms.Compose([\n",
    "                               torchvision.transforms.ToTensor(),\n",
    "                               #torchvision.transforms.Normalize(\n",
    "                               #  (0.1307,), (0.3081,))\n",
    "                             ])),\n",
    "  batch_size=batch_size_test, shuffle=True)"
   ]
  },
  {
   "cell_type": "code",
   "execution_count": null,
   "metadata": {
    "colab": {
     "base_uri": "https://localhost:8080/",
     "height": 34
    },
    "colab_type": "code",
    "executionInfo": {
     "elapsed": 574,
     "status": "ok",
     "timestamp": 1572027256126,
     "user": {
      "displayName": "이희찬",
      "photoUrl": "",
      "userId": "06255163499262544080"
     },
     "user_tz": -540
    },
    "id": "uAMqXFiJmiBD",
    "outputId": "aee6940c-edb8-4a71-a29c-c3b5eff512fc"
   },
   "outputs": [],
   "source": [
    "train_loader"
   ]
  },
  {
   "cell_type": "code",
   "execution_count": null,
   "metadata": {
    "colab": {},
    "colab_type": "code",
    "id": "pW2TODXRgt3-"
   },
   "outputs": [],
   "source": [
    "import copy\n",
    "\n",
    "def clone(module, N):\n",
    "    return nn.ModuleList([copy.deepcopy(module) for _ in range(N)])"
   ]
  },
  {
   "cell_type": "code",
   "execution_count": null,
   "metadata": {
    "colab": {},
    "colab_type": "code",
    "id": "c-Y3Uehyc9IE"
   },
   "outputs": [],
   "source": [
    "class MaskedConv2d(nn.Conv2d):\n",
    "    def __init__(self, *args, mask='B', **kargs):\n",
    "        super(MaskedConv2d, self).__init__(*args, **kargs)\n",
    "        assert mask in {'A', 'B'}\n",
    "        self.mask_type = mask\n",
    "        self.register_buffer('mask', self.weight.data.clone())\n",
    "        self.mask.fill_(1)\n",
    "    \n",
    "        _, _, H, W = self.mask.size()\n",
    "    \n",
    "        self.mask[:, :, H//2,W//2 + (self.mask_type == 'B'):] = 0\n",
    "        self.mask[:, :, H//2+1:, :] = 0\n",
    "    \n",
    "    def forward(self, x):\n",
    "        self.weight.data *= self.mask\n",
    "        #print(self.weight.data)\n",
    "        return super(MaskedConv2d, self).forward(x)"
   ]
  },
  {
   "cell_type": "code",
   "execution_count": null,
   "metadata": {
    "colab": {},
    "colab_type": "code",
    "id": "QcGc7Iz_7b5U"
   },
   "outputs": [],
   "source": [
    "class MaskedConv1d(nn.Conv1d):\n",
    "    def __init__(self, *args, mask='B', **kargs):\n",
    "        super(MaskedConv1d, self).__init__(*args, **kargs)\n",
    "        assert mask in {'A', 'B'}\n",
    "        self.mask_type = mask\n",
    "        self.register_buffer('mask', self.weight.data.clone())\n",
    "        self.mask.fill_(1)\n",
    "    \n",
    "        _, _, W = self.mask.size()\n",
    "    \n",
    "        self.mask[:, :, W//2 + (self.mask_type == 'B'):] = 0\n",
    "    \n",
    "    def forward(self, x):\n",
    "        self.weight.data *= self.mask\n",
    "        return super(MaskedConv1d, self).forward(x)\n",
    "    "
   ]
  },
  {
   "cell_type": "code",
   "execution_count": null,
   "metadata": {
    "colab": {},
    "colab_type": "code",
    "id": "WukTDomxiaW_"
   },
   "outputs": [],
   "source": [
    "import numpy as np\n",
    "sample=torch.Tensor(np.ones((1,1,5,5)))"
   ]
  },
  {
   "cell_type": "code",
   "execution_count": null,
   "metadata": {
    "colab": {
     "base_uri": "https://localhost:8080/",
     "height": 34
    },
    "colab_type": "code",
    "executionInfo": {
     "elapsed": 607,
     "status": "ok",
     "timestamp": 1572027761887,
     "user": {
      "displayName": "이희찬",
      "photoUrl": "",
      "userId": "06255163499262544080"
     },
     "user_tz": -540
    },
    "id": "Tr4MPoCRN7v7",
    "outputId": "73175633-1a42-481f-cc56-e0368e636d1c"
   },
   "outputs": [],
   "source": [
    "a,b,c,d=sample.size()\n",
    "a"
   ]
  },
  {
   "cell_type": "markdown",
   "metadata": {
    "colab_type": "text",
    "id": "bZHLeupAjz4N"
   },
   "source": [
    "o = [i + 2*p - k - (k-1)*(d-1)]/s + 1"
   ]
  },
  {
   "cell_type": "code",
   "execution_count": null,
   "metadata": {
    "colab": {},
    "colab_type": "code",
    "id": "ZiN-xmyujjAr"
   },
   "outputs": [],
   "source": [
    "def _padding(i, o, k, s=1, d=1, mode='same'):\n",
    "    if mode == 'same':\n",
    "        return ((o-1) * s + (k-1)*(d-1) + k - i) // 2\n",
    "    else:\n",
    "        raise RuntimeError('Not implemented')"
   ]
  },
  {
   "cell_type": "code",
   "execution_count": null,
   "metadata": {
    "colab": {
     "base_uri": "https://localhost:8080/",
     "height": 122
    },
    "colab_type": "code",
    "executionInfo": {
     "elapsed": 800,
     "status": "ok",
     "timestamp": 1572027765441,
     "user": {
      "displayName": "이희찬",
      "photoUrl": "",
      "userId": "06255163499262544080"
     },
     "user_tz": -540
    },
    "id": "AzsT88tXijGQ",
    "outputId": "0ec2835f-b193-43bf-924c-0d70d5bf99fe"
   },
   "outputs": [],
   "source": [
    "MaskedConv2d(1,1,(1,3), padding=(0,_padding(5,5,3)))(sample)"
   ]
  },
  {
   "cell_type": "code",
   "execution_count": null,
   "metadata": {
    "colab": {},
    "colab_type": "code",
    "id": "LHrUIoqrk6mz"
   },
   "outputs": [],
   "source": [
    "class RowLSTMCell(nn.Module):\n",
    "    def __init__(self, hidden_dims, image_size, channel_in, *args, **kargs):\n",
    "        super(RowLSTMCell, self).__init__(*args, **kargs)\n",
    "\n",
    "        self._hidden_dims = hidden_dims\n",
    "        self._image_size = image_size\n",
    "        self._channel_in = channel_in\n",
    "        self._num_units = self._hidden_dims * self._image_size\n",
    "        self._output_size = self._num_units\n",
    "        self._state_size = self._num_units * 2\n",
    "\n",
    "        self.conv_i_s = MaskedConv1d(self._hidden_dims, 4 * self._hidden_dims, 3, mask='B', padding=_padding(image_size, image_size, 3))\n",
    "        self.conv_s_s = nn.Conv1d(channel_in, 4 * self._hidden_dims, 3, padding=_padding(image_size, image_size, 3))\n",
    "   \n",
    "    def forward(self, inputs, states):\n",
    "        c_prev, h_prev = states\n",
    "\n",
    "\n",
    "\n",
    "        h_prev = h_prev.view(-1, self._hidden_dims,  self._image_size)\n",
    "        inputs = inputs.view(-1, self._channel_in, self._image_size)\n",
    "\n",
    "        s_s = self.conv_s_s(h_prev) #(batch, 4*hidden_dims, width)\n",
    "        i_s = self.conv_i_s(inputs) #(batch, 4*hidden_dims, width)\n",
    "\n",
    "\n",
    "\n",
    "        s_s = s_s.view(-1, 4 * self._num_units) #(batch, 4*hidden_dims*width)\n",
    "        i_s = i_s.view(-1, 4 * self._num_units) #(batch, 4*hidden_dims*width)\n",
    "\n",
    "        #print(s_s.size(), i_s.size())\n",
    "\n",
    "        lstm = s_s + i_s\n",
    "\n",
    "        lstm = torch.sigmoid(lstm)\n",
    "\n",
    "        i, g, f, o = torch.split(lstm, (4 * self._num_units)//4, dim=1)\n",
    "\n",
    "        c = f * c_prev + i * g\n",
    "        h = o * torch.tanh(c)\n",
    "\n",
    "        new_state = (c, h)\n",
    "        return h, new_state\n",
    "    \n",
    "    "
   ]
  },
  {
   "cell_type": "code",
   "execution_count": null,
   "metadata": {
    "colab": {},
    "colab_type": "code",
    "id": "l9109XA96tT1"
   },
   "outputs": [],
   "source": [
    "class RowLSTM(nn.Module):\n",
    "    def __init__(self, hidden_dims, input_size, channel_in, *args, init='zero', **kargs):\n",
    "        super(RowLSTM, self).__init__(*args, **kargs)\n",
    "        assert init in {'zero', 'noise', 'variable', 'variable noise'}\n",
    "\n",
    "        self.init = init\n",
    "        self._hidden_dims = hidden_dims\n",
    "        #self.return_state = return_state\n",
    "        if self.init == 'zero':\n",
    "            self.init_state = (torch.zeros(1, input_size * hidden_dims), torch.zeros(1, input_size * hidden_dims))\n",
    "        elif self.init == 'noise':\n",
    "            self.init_state = (torch.Tensor(1, input_size * hidden_dims), torch.Tensor(1, input_size * hidden_dims))\n",
    "            nn.init.uniform(self.init_state[0])\n",
    "            nn.init.uniform(self.init_state[1])  \n",
    "        elif self.init == 'variable':\n",
    "            hidden0 = torch.zeros(1,input_size * hidden_dims)\n",
    "            ##if use_cuda:\n",
    "            ##  hidden0 = hidden0.cuda()\n",
    "            ##else:\n",
    "            ##  hidden0 = hidden0\n",
    "            self._hidden_init_state = torch.nn.Parameter(hidden0, requires_grad=True)\n",
    "            self._cell_init_state = torch.nn.Parameter(hidden0, requires_grad=True)\n",
    "            self.init_state = (self._hidden_init_state, self._cell_init_state)\n",
    "        else:\n",
    "            hidden0 = torch.Tensor(1, input_size * hidden_dims) # size\n",
    "            nn.init.uniform(hidden0)\n",
    "            self._hidden_init_state = torch.nn.Parameter(hidden0, requires_grad=True)\n",
    "            self._cell_init_state = torch.nn.Parameter(hidden0, requires_grad=True)\n",
    "            self.init_state = (self._hidden_init_state, self._cell_init_state)\n",
    "\n",
    "        self.lstm_cell = RowLSTMCell(hidden_dims, input_size, channel_in)\n",
    "    \n",
    "    def forward(self, inputs, initial_state=None):\n",
    "        '''\n",
    "        states --> (c, h), tuple\n",
    "        c,h --> (batch, width * hidden_dims)\n",
    "        inputs --> (batch, seq_length, input_shape)\n",
    "        input_shape --> width, channel\n",
    "        '''\n",
    "\n",
    "\n",
    "        n_batch, channel, n_seq, width = inputs.size()\n",
    "        #print(n_seq)\n",
    "        #inputs = inputs.view(n_batch, channel, n_seq, width)\n",
    "        if initial_state is None:\n",
    "            hidden_init, cell_init = self.init_state\n",
    "\n",
    "        else:\n",
    "            hidden_init, cell_init = initial_state\n",
    "\n",
    "        states = (hidden_init.repeat(n_batch,1), cell_init.repeat(n_batch, 1))\n",
    "\n",
    "        steps = [] # --> (batch, width * hidden_dims) --> (batch, 1, width*hidden_dims)\n",
    "        for seq in range(n_seq):\n",
    "            #print(inputs[:, :, seq, :].size())\n",
    "            h, states = self.lstm_cell(inputs[:, :, seq, :], states)\n",
    "            steps.append(h.unsqueeze(1))\n",
    "\n",
    "        return torch.cat(steps, dim=1).view(-1, n_seq, width, self._hidden_dims).permute(0,3,1,2) # --> (batch, seq_length(a.k.a height), width * hidden_dims)\n",
    "    "
   ]
  },
  {
   "cell_type": "markdown",
   "metadata": {
    "colab_type": "text",
    "id": "6QXhbgXqufpi"
   },
   "source": [
    "rnn initail state initializer\n",
    "--> https://r2rt.com/non-zero-initial-states-for-recurrent-neural-networks.html\n",
    "\n",
    "\n",
    "\n",
    "1.   zero\n",
    "2.   gaussian\n",
    "3.   learnable(variable)\n",
    "4.   variable + gaussian noise\n"
   ]
  },
  {
   "cell_type": "markdown",
   "metadata": {
    "colab_type": "text",
    "id": "gPjK65Swy2zT"
   },
   "source": [
    "torch.Tensor.normal_\n",
    "\n",
    "torch.Tensor.zero_"
   ]
  },
  {
   "cell_type": "code",
   "execution_count": null,
   "metadata": {
    "colab": {
     "base_uri": "https://localhost:8080/",
     "height": 122
    },
    "colab_type": "code",
    "executionInfo": {
     "elapsed": 691,
     "status": "ok",
     "timestamp": 1567001062888,
     "user": {
      "displayName": "이희찬",
      "photoUrl": "",
      "userId": "06255163499262544080"
     },
     "user_tz": -540
    },
    "id": "GRDUUqUfuity",
    "outputId": "467fe253-dfe8-4906-a01f-c7dbaf7343ed"
   },
   "outputs": [],
   "source": [
    "for p in lstm.parameters():\n",
    "    print(p.size())"
   ]
  },
  {
   "cell_type": "code",
   "execution_count": null,
   "metadata": {
    "colab": {
     "base_uri": "https://localhost:8080/",
     "height": 34
    },
    "colab_type": "code",
    "executionInfo": {
     "elapsed": 1109,
     "status": "ok",
     "timestamp": 1567001045609,
     "user": {
      "displayName": "이희찬",
      "photoUrl": "",
      "userId": "06255163499262544080"
     },
     "user_tz": -540
    },
    "id": "nrjED0-8Z6Ep",
    "outputId": "42da4f50-df5a-4a36-8e98-a32a50d6d350"
   },
   "outputs": [],
   "source": [
    "batch_sample=torch.Tensor(np.random.random((16,28,28, 1)))\n",
    "b, c, h, w = batch_sample.size()\n",
    "print(b,c,h,w)"
   ]
  },
  {
   "cell_type": "code",
   "execution_count": null,
   "metadata": {
    "colab": {},
    "colab_type": "code",
    "id": "IbT0ifWiheLr"
   },
   "outputs": [],
   "source": [
    "lstm = RowLSTM(32, 28, 1, init='variable')\n",
    "#lstm(batch_sample, (torch.Tensor(np.random.random((16, 28 * 32))),torch.Tensor(np.random.random((16, 28 * 32))))).size()"
   ]
  },
  {
   "cell_type": "code",
   "execution_count": null,
   "metadata": {
    "colab": {},
    "colab_type": "code",
    "id": "RBAW0i-3Z6H5"
   },
   "outputs": [],
   "source": [
    "class PixelRNN(nn.Module):\n",
    "    def __init__(self, num_layers, hidden_dims, input_size, *args, **kargs):\n",
    "        super(PixelRNN, self).__init__(*args, **kargs)\n",
    "\n",
    "        pad_conv1 = _padding(input_size, input_size, 7)\n",
    "        pad_conv2 = _padding(input_size, input_size, 1)\n",
    "        self.conv1 = MaskedConv2d(1, hidden_dims, (7,7), mask='A', padding=(pad_conv1, pad_conv1))\n",
    "        self.lstm_list = nn.ModuleList([RowLSTM(hidden_dims, input_size, hidden_dims) for _ in range(num_layers)])\n",
    "        self.conv2 = nn.Conv2d(hidden_dims, 32, (1,1), padding=(pad_conv2, pad_conv2))\n",
    "        self.conv_last = nn.Conv2d(32, 1, (1,1), padding=(pad_conv2, pad_conv2))\n",
    "    \n",
    "    \n",
    "    def forward(self, inputs):\n",
    "        x = self.conv1(inputs)\n",
    "        for lstm in self.lstm_list:\n",
    "            x = lstm(x)\n",
    "        x = self.conv2(x)\n",
    "        x = F.relu(x)\n",
    "        x = self.conv_last(x)\n",
    "        return torch.sigmoid(x)\n",
    "    "
   ]
  },
  {
   "cell_type": "code",
   "execution_count": null,
   "metadata": {
    "colab": {},
    "colab_type": "code",
    "id": "sziODK_ygtUf"
   },
   "outputs": [],
   "source": [
    "model = PixelRNN(num_layers=2, hidden_dims=16, input_size=28)"
   ]
  },
  {
   "cell_type": "code",
   "execution_count": null,
   "metadata": {
    "colab": {},
    "colab_type": "code",
    "id": "wP-No6QrcIxj"
   },
   "outputs": [],
   "source": [
    "from torch import optim\n",
    "loss_function = nn.BCELoss()\n",
    "optimizer = optim.RMSprop(model.parameters())"
   ]
  },
  {
   "cell_type": "code",
   "execution_count": null,
   "metadata": {
    "colab": {
     "base_uri": "https://localhost:8080/",
     "height": 263
    },
    "colab_type": "code",
    "executionInfo": {
     "elapsed": 550,
     "status": "ok",
     "timestamp": 1572028910104,
     "user": {
      "displayName": "이희찬",
      "photoUrl": "",
      "userId": "06255163499262544080"
     },
     "user_tz": -540
    },
    "id": "jTuJOd0KKUfW",
    "outputId": "554ebd44-df2e-4a55-b3f4-ffd172ccaea3"
   },
   "outputs": [],
   "source": [
    "accum = 0\n",
    "for name, param in model.named_parameters():\n",
    "    if param.requires_grad:\n",
    "        print(name, param.size())"
   ]
  },
  {
   "cell_type": "code",
   "execution_count": null,
   "metadata": {
    "colab": {
     "base_uri": "https://localhost:8080/",
     "height": 34
    },
    "colab_type": "code",
    "executionInfo": {
     "elapsed": 479,
     "status": "ok",
     "timestamp": 1572028910993,
     "user": {
      "displayName": "이희찬",
      "photoUrl": "",
      "userId": "06255163499262544080"
     },
     "user_tz": -540
    },
    "id": "ro15eUuOLFzc",
    "outputId": "1782af79-e07b-4982-c8eb-dcdafae49018"
   },
   "outputs": [],
   "source": [
    "accum = 0\n",
    "for name, param in model.named_parameters():\n",
    "    if param.requires_grad:\n",
    "        sz = param.size()\n",
    "        tmp = 1\n",
    "        for i in sz:\n",
    "            tmp *= i\n",
    "        accum += tmp\n",
    "    \n",
    "print(accum)"
   ]
  },
  {
   "cell_type": "code",
   "execution_count": null,
   "metadata": {
    "colab": {
     "base_uri": "https://localhost:8080/",
     "height": 169
    },
    "colab_type": "code",
    "executionInfo": {
     "elapsed": 1076,
     "status": "error",
     "timestamp": 1567243290148,
     "user": {
      "displayName": "이희찬",
      "photoUrl": "",
      "userId": "06255163499262544080"
     },
     "user_tz": -540
    },
    "id": "ObNtFf8uxm0b",
    "outputId": "ba32dfb8-337d-4afe-f754-9ec2b65316e0"
   },
   "outputs": [],
   "source": [
    "trainloader"
   ]
  },
  {
   "cell_type": "code",
   "execution_count": null,
   "metadata": {
    "colab": {
     "base_uri": "https://localhost:8080/",
     "height": 34
    },
    "colab_type": "code",
    "executionInfo": {
     "elapsed": 633,
     "status": "ok",
     "timestamp": 1572027816227,
     "user": {
      "displayName": "이희찬",
      "photoUrl": "",
      "userId": "06255163499262544080"
     },
     "user_tz": -540
    },
    "id": "cXspnsOBxrNh",
    "outputId": "b834a039-1ffa-49de-ad4b-4475e5bb41d2"
   },
   "outputs": [],
   "source": [
    "def binarize(image):\n",
    "    return (np.random.uniform(0, 1, image.shape) < image).astype('float32')\n",
    "\n",
    "binarize(np.array([0.5,0.2,0.4, 0.6, 0.9]))"
   ]
  },
  {
   "cell_type": "code",
   "execution_count": null,
   "metadata": {
    "colab": {
     "base_uri": "https://localhost:8080/",
     "height": 386
    },
    "colab_type": "code",
    "executionInfo": {
     "elapsed": 20460,
     "status": "error",
     "timestamp": 1572027837523,
     "user": {
      "displayName": "이희찬",
      "photoUrl": "",
      "userId": "06255163499262544080"
     },
     "user_tz": -540
    },
    "id": "mVDl19ooc7Ey",
    "outputId": "fc462f80-4a3f-4e37-ec5f-4e55301d7aa8"
   },
   "outputs": [],
   "source": [
    "for epoch in range(1, 11): ## run the model for 10 epochs\n",
    "    train_loss, valid_loss = [], []\n",
    "    ## training part \n",
    "    model.train()\n",
    "    for data, _ in train_loader:\n",
    "        \n",
    "        x = binarize(data.numpy())\n",
    "        x = torch.Tensor(x)\n",
    "        y = data.clone()\n",
    "      \n",
    "      \n",
    "      \n",
    "        optimizer.zero_grad()\n",
    "        ## 1. forward propagation\n",
    "        output = model(x)\n",
    "        \n",
    "        ## 2. loss calculation\n",
    "        loss = loss_function(output, y)\n",
    "        \n",
    "        ## 3. backward propagation\n",
    "        loss.backward()\n",
    "        \n",
    "        ## 4. weight optimization\n",
    "        optimizer.step()\n",
    "        \n",
    "        train_loss.append(loss.item())\n",
    "        \n",
    "    print (\"Epoch:\", epoch, \"Training Loss: \", np.mean(train_loss), \"Valid Loss: \", np.mean(valid_loss))\n"
   ]
  },
  {
   "cell_type": "code",
   "execution_count": null,
   "metadata": {
    "colab": {},
    "colab_type": "code",
    "id": "R7Tnfyw6c7Hi"
   },
   "outputs": [],
   "source": []
  }
 ],
 "metadata": {
  "accelerator": "GPU",
  "colab": {
   "collapsed_sections": [],
   "name": "PixelRNN pytorch",
   "provenance": []
  },
  "kernelspec": {
   "display_name": "Python 3",
   "language": "python",
   "name": "python3"
  },
  "language_info": {
   "codemirror_mode": {
    "name": "ipython",
    "version": 3
   },
   "file_extension": ".py",
   "mimetype": "text/x-python",
   "name": "python",
   "nbconvert_exporter": "python",
   "pygments_lexer": "ipython3",
   "version": "3.6.5"
  }
 },
 "nbformat": 4,
 "nbformat_minor": 1
}
